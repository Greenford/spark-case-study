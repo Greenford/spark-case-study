{
 "cells": [
  {
   "cell_type": "code",
   "execution_count": 4,
   "metadata": {},
   "outputs": [],
   "source": [
    "import pyspark as ps    # for the pyspark suite\n",
    "from pyspark.sql import SparkSession, Window\n",
    "import json             # for parsing json formatted data\n",
    "import csv              # for the split_csvstring function from Part 3.2.2\n",
    "try:                    # Python 3 compatibility\n",
    "    from StringIO import StringIO\n",
    "except ImportError:\n",
    "    from io import StringIO\n",
    "import os    "
   ]
  },
  {
   "cell_type": "code",
   "execution_count": 9,
   "metadata": {},
   "outputs": [],
   "source": [
    "spark = SparkSession.builder.master(\"local\").getOrCreate()\n",
    "sc = spark.sparkContext"
   ]
  },
  {
   "cell_type": "code",
   "execution_count": 11,
   "metadata": {},
   "outputs": [],
   "source": [
    "path = \"/home/jovyan/casestudy1/zippedData/data/french_tweets.json\"\n",
    "rdd = sc.textFile(path)"
   ]
  },
  {
   "cell_type": "code",
   "execution_count": 13,
   "metadata": {},
   "outputs": [
    {
     "data": {
      "text/plain": [
       "['{\"created_at\":\"Wed Apr 26 13:30:45 +0000 2017\",\"id\":857225437122097152,\"id_str\":\"857225437122097152\",\"text\":\"Je comprends pas trop la fin de 13 reasons why \\\\ud83d\\\\ude13\",\"source\":\"\\\\u003ca href=\\\\\"http:\\\\/\\\\/twitter.com\\\\/download\\\\/iphone\\\\\" rel=\\\\\"nofollow\\\\\"\\\\u003eTwitter for iPhone\\\\u003c\\\\/a\\\\u003e\",\"truncated\":false,\"in_reply_to_status_id\":null,\"in_reply_to_status_id_str\":null,\"in_reply_to_user_id\":null,\"in_reply_to_user_id_str\":null,\"in_reply_to_screen_name\":null,\"user\":{\"id\":3137428743,\"id_str\":\"3137428743\",\"name\":\"TA\\\\u00cfNA\\\\u2661\",\"screen_name\":\"tainabmn\",\"location\":null,\"url\":null,\"description\":null,\"protected\":false,\"verified\":false,\"followers_count\":318,\"friends_count\":406,\"listed_count\":2,\"favourites_count\":777,\"statuses_count\":3251,\"created_at\":\"Sun Apr 05 16:03:00 +0000 2015\",\"utc_offset\":null,\"time_zone\":null,\"geo_enabled\":true,\"lang\":\"fr\",\"contributors_enabled\":false,\"is_translator\":false,\"profile_background_color\":\"C0DEED\",\"profile_background_image_url\":\"http:\\\\/\\\\/abs.twimg.com\\\\/images\\\\/themes\\\\/theme1\\\\/bg.png\",\"profile_background_image_url_https\":\"https:\\\\/\\\\/abs.twimg.com\\\\/images\\\\/themes\\\\/theme1\\\\/bg.png\",\"profile_background_tile\":false,\"profile_link_color\":\"1DA1F2\",\"profile_sidebar_border_color\":\"C0DEED\",\"profile_sidebar_fill_color\":\"DDEEF6\",\"profile_text_color\":\"333333\",\"profile_use_background_image\":true,\"profile_image_url\":\"http:\\\\/\\\\/pbs.twimg.com\\\\/profile_images\\\\/857204115981697024\\\\/XcetMiHe_normal.jpg\",\"profile_image_url_https\":\"https:\\\\/\\\\/pbs.twimg.com\\\\/profile_images\\\\/857204115981697024\\\\/XcetMiHe_normal.jpg\",\"profile_banner_url\":\"https:\\\\/\\\\/pbs.twimg.com\\\\/profile_banners\\\\/3137428743\\\\/1492766586\",\"default_profile\":true,\"default_profile_image\":false,\"following\":null,\"follow_request_sent\":null,\"notifications\":null},\"geo\":null,\"coordinates\":null,\"place\":{\"id\":\"4da693e9b39923ab\",\"url\":\"https:\\\\/\\\\/api.twitter.com\\\\/1.1\\\\/geo\\\\/id\\\\/4da693e9b39923ab.json\",\"place_type\":\"city\",\"name\":\"Dozul\\\\u00e9\",\"full_name\":\"Dozul\\\\u00e9, France\",\"country_code\":\"FR\",\"country\":\"France\",\"bounding_box\":{\"type\":\"Polygon\",\"coordinates\":[[[-0.061141,49.208997],[-0.061141,49.250115],[-0.032199,49.250115],[-0.032199,49.208997]]]},\"attributes\":{}},\"contributors\":null,\"is_quote_status\":false,\"retweet_count\":0,\"favorite_count\":0,\"entities\":{\"hashtags\":[],\"urls\":[],\"user_mentions\":[],\"symbols\":[]},\"favorited\":false,\"retweeted\":false,\"filter_level\":\"low\",\"lang\":\"fr\",\"timestamp_ms\":\"1493213445345\"}',\n",
       " '{\"created_at\":\"Wed Apr 26 13:30:45 +0000 2017\",\"id\":857225437088555009,\"id_str\":\"857225437088555009\",\"text\":\"@julesbl99 travailles au lieu de raconter ta vie\",\"display_text_range\":[11,48],\"source\":\"\\\\u003ca href=\\\\\"http:\\\\/\\\\/twitter.com\\\\/download\\\\/iphone\\\\\" rel=\\\\\"nofollow\\\\\"\\\\u003eTwitter for iPhone\\\\u003c\\\\/a\\\\u003e\",\"truncated\":false,\"in_reply_to_status_id\":857220945982967808,\"in_reply_to_status_id_str\":\"857220945982967808\",\"in_reply_to_user_id\":787617474820841472,\"in_reply_to_user_id_str\":\"787617474820841472\",\"in_reply_to_screen_name\":\"julesbl99\",\"user\":{\"id\":2586505687,\"id_str\":\"2586505687\",\"name\":\"Cerpyth\",\"screen_name\":\"Audran_6\",\"location\":null,\"url\":null,\"description\":\"Les gens depensent dl\\'argent qu\\'ils ne gagnent pas pour acheter ds choses dont ils nont pas besoin pr impressionner des gens qu\\'ils n\\'aiment pas. snap: audran_6\",\"protected\":false,\"verified\":false,\"followers_count\":173,\"friends_count\":134,\"listed_count\":1,\"favourites_count\":1015,\"statuses_count\":2922,\"created_at\":\"Tue Jun 24 23:16:43 +0000 2014\",\"utc_offset\":null,\"time_zone\":null,\"geo_enabled\":true,\"lang\":\"fr\",\"contributors_enabled\":false,\"is_translator\":false,\"profile_background_color\":\"C0DEED\",\"profile_background_image_url\":\"http:\\\\/\\\\/abs.twimg.com\\\\/images\\\\/themes\\\\/theme1\\\\/bg.png\",\"profile_background_image_url_https\":\"https:\\\\/\\\\/abs.twimg.com\\\\/images\\\\/themes\\\\/theme1\\\\/bg.png\",\"profile_background_tile\":false,\"profile_link_color\":\"0048B3\",\"profile_sidebar_border_color\":\"C0DEED\",\"profile_sidebar_fill_color\":\"DDEEF6\",\"profile_text_color\":\"333333\",\"profile_use_background_image\":true,\"profile_image_url\":\"http:\\\\/\\\\/pbs.twimg.com\\\\/profile_images\\\\/675445019294212096\\\\/0d1ksXko_normal.jpg\",\"profile_image_url_https\":\"https:\\\\/\\\\/pbs.twimg.com\\\\/profile_images\\\\/675445019294212096\\\\/0d1ksXko_normal.jpg\",\"profile_banner_url\":\"https:\\\\/\\\\/pbs.twimg.com\\\\/profile_banners\\\\/2586505687\\\\/1434792576\",\"default_profile\":false,\"default_profile_image\":false,\"following\":null,\"follow_request_sent\":null,\"notifications\":null},\"geo\":null,\"coordinates\":null,\"place\":{\"id\":\"09ef78b32799b6e8\",\"url\":\"https:\\\\/\\\\/api.twitter.com\\\\/1.1\\\\/geo\\\\/id\\\\/09ef78b32799b6e8.json\",\"place_type\":\"city\",\"name\":\"Orvault\",\"full_name\":\"Orvault, France\",\"country_code\":\"FR\",\"country\":\"France\",\"bounding_box\":{\"type\":\"Polygon\",\"coordinates\":[[[-1.663459,47.239088],[-1.663459,47.309610],[-1.576006,47.309610],[-1.576006,47.239088]]]},\"attributes\":{}},\"contributors\":null,\"is_quote_status\":false,\"retweet_count\":0,\"favorite_count\":0,\"entities\":{\"hashtags\":[],\"urls\":[],\"user_mentions\":[{\"screen_name\":\"julesbl99\",\"name\":\"jules moreaux\",\"id\":787617474820841472,\"id_str\":\"787617474820841472\",\"indices\":[0,10]}],\"symbols\":[]},\"favorited\":false,\"retweeted\":false,\"filter_level\":\"low\",\"lang\":\"fr\",\"timestamp_ms\":\"1493213445337\"}',\n",
       " '{\"created_at\":\"Wed Apr 26 13:30:46 +0000 2017\",\"id\":857225441157021697,\"id_str\":\"857225441157021697\",\"text\":\"@lecho_fr @lasaucelleoff J\\'esp\\\\u00e8re faire mieux mais c\\'est pas s\\\\u00fbr dieu seul le sait\",\"display_text_range\":[25,82],\"source\":\"\\\\u003ca href=\\\\\"http:\\\\/\\\\/twitter.com\\\\/download\\\\/android\\\\\" rel=\\\\\"nofollow\\\\\"\\\\u003eTwitter for Android\\\\u003c\\\\/a\\\\u003e\",\"truncated\":false,\"in_reply_to_status_id\":817116111389032448,\"in_reply_to_status_id_str\":\"817116111389032448\",\"in_reply_to_user_id\":326757541,\"in_reply_to_user_id_str\":\"326757541\",\"in_reply_to_screen_name\":\"lecho_fr\",\"user\":{\"id\":805805743316357120,\"id_str\":\"805805743316357120\",\"name\":\"Bjr du Centre\",\"screen_name\":\"scorpionrouge21\",\"location\":\"Centre, France\",\"url\":null,\"description\":\"Je reste discret sur ma vie comme \\\\u00e7a pas de mensonge \\\\u00e2 vous dire. La photo vous dit la r\\\\u00e9ponse pas compliqu\\\\u00e9 \\\\u00e0 comprendre?\",\"protected\":false,\"verified\":false,\"followers_count\":5,\"friends_count\":20,\"listed_count\":2,\"favourites_count\":13,\"statuses_count\":8,\"created_at\":\"Mon Dec 05 16:07:15 +0000 2016\",\"utc_offset\":7200,\"time_zone\":\"Paris\",\"geo_enabled\":true,\"lang\":\"fr\",\"contributors_enabled\":false,\"is_translator\":false,\"profile_background_color\":\"000000\",\"profile_background_image_url\":\"http:\\\\/\\\\/abs.twimg.com\\\\/images\\\\/themes\\\\/theme1\\\\/bg.png\",\"profile_background_image_url_https\":\"https:\\\\/\\\\/abs.twimg.com\\\\/images\\\\/themes\\\\/theme1\\\\/bg.png\",\"profile_background_tile\":false,\"profile_link_color\":\"E81C4F\",\"profile_sidebar_border_color\":\"000000\",\"profile_sidebar_fill_color\":\"000000\",\"profile_text_color\":\"000000\",\"profile_use_background_image\":false,\"profile_image_url\":\"http:\\\\/\\\\/pbs.twimg.com\\\\/profile_images\\\\/856537187592155136\\\\/zuiUKOym_normal.jpg\",\"profile_image_url_https\":\"https:\\\\/\\\\/pbs.twimg.com\\\\/profile_images\\\\/856537187592155136\\\\/zuiUKOym_normal.jpg\",\"profile_banner_url\":\"https:\\\\/\\\\/pbs.twimg.com\\\\/profile_banners\\\\/805805743316357120\\\\/1493199314\",\"default_profile\":false,\"default_profile_image\":false,\"following\":null,\"follow_request_sent\":null,\"notifications\":null},\"geo\":null,\"coordinates\":null,\"place\":{\"id\":\"50d429c8224054f9\",\"url\":\"https:\\\\/\\\\/api.twitter.com\\\\/1.1\\\\/geo\\\\/id\\\\/50d429c8224054f9.json\",\"place_type\":\"city\",\"name\":\"Luc\\\\u00e9\",\"full_name\":\"Luc\\\\u00e9, France\",\"country_code\":\"FR\",\"country\":\"France\",\"bounding_box\":{\"type\":\"Polygon\",\"coordinates\":[[[1.427255,48.421392],[1.427255,48.446024],[1.478306,48.446024],[1.478306,48.421392]]]},\"attributes\":{}},\"contributors\":null,\"is_quote_status\":false,\"retweet_count\":0,\"favorite_count\":0,\"entities\":{\"hashtags\":[],\"urls\":[],\"user_mentions\":[{\"screen_name\":\"lecho_fr\",\"name\":\"L\\'Echo R\\\\u00e9publicain\",\"id\":326757541,\"id_str\":\"326757541\",\"indices\":[0,9]},{\"screen_name\":\"lasaucelleoff\",\"name\":\"La Saucelle Off\",\"id\":3482554756,\"id_str\":\"3482554756\",\"indices\":[10,24]}],\"symbols\":[]},\"favorited\":false,\"retweeted\":false,\"filter_level\":\"low\",\"lang\":\"fr\",\"timestamp_ms\":\"1493213446307\"}',\n",
       " '{\"created_at\":\"Wed Apr 26 13:30:46 +0000 2017\",\"id\":857225444030128128,\"id_str\":\"857225444030128128\",\"text\":\"362 jours par an je suis adorable, aujourd\\'hui ne fait pas parti de ces 362.... \\\\ud83d\\\\ude21\\\\ud83d\\\\ude21\",\"source\":\"\\\\u003ca href=\\\\\"http:\\\\/\\\\/twitter.com\\\\\" rel=\\\\\"nofollow\\\\\"\\\\u003eTwitter Web Client\\\\u003c\\\\/a\\\\u003e\",\"truncated\":false,\"in_reply_to_status_id\":null,\"in_reply_to_status_id_str\":null,\"in_reply_to_user_id\":null,\"in_reply_to_user_id_str\":null,\"in_reply_to_screen_name\":null,\"user\":{\"id\":335930062,\"id_str\":\"335930062\",\"name\":\"Ben\\\\u00b3\",\"screen_name\":\"BenTwenties\",\"location\":\"Lyon\",\"url\":null,\"description\":\"- Delaney ? - Oui ? - As tu regard\\\\u00e9 R\\\\u00e9gis ce matin ? - Oui, pourquoi ? \\\\nBoom !\",\"protected\":false,\"verified\":false,\"followers_count\":197,\"friends_count\":179,\"listed_count\":10,\"favourites_count\":1190,\"statuses_count\":19573,\"created_at\":\"Fri Jul 15 13:39:40 +0000 2011\",\"utc_offset\":7200,\"time_zone\":\"Paris\",\"geo_enabled\":true,\"lang\":\"fr\",\"contributors_enabled\":false,\"is_translator\":false,\"profile_background_color\":\"131516\",\"profile_background_image_url\":\"http:\\\\/\\\\/pbs.twimg.com\\\\/profile_background_images\\\\/516533115620036608\\\\/qdzMHmgg.jpeg\",\"profile_background_image_url_https\":\"https:\\\\/\\\\/pbs.twimg.com\\\\/profile_background_images\\\\/516533115620036608\\\\/qdzMHmgg.jpeg\",\"profile_background_tile\":true,\"profile_link_color\":\"009999\",\"profile_sidebar_border_color\":\"FFFFFF\",\"profile_sidebar_fill_color\":\"DDEEF6\",\"profile_text_color\":\"333333\",\"profile_use_background_image\":true,\"profile_image_url\":\"http:\\\\/\\\\/pbs.twimg.com\\\\/profile_images\\\\/739255531181867008\\\\/9m70GbIQ_normal.jpg\",\"profile_image_url_https\":\"https:\\\\/\\\\/pbs.twimg.com\\\\/profile_images\\\\/739255531181867008\\\\/9m70GbIQ_normal.jpg\",\"profile_banner_url\":\"https:\\\\/\\\\/pbs.twimg.com\\\\/profile_banners\\\\/335930062\\\\/1435836910\",\"default_profile\":false,\"default_profile_image\":false,\"following\":null,\"follow_request_sent\":null,\"notifications\":null},\"geo\":null,\"coordinates\":null,\"place\":{\"id\":\"179b8df9e368044d\",\"url\":\"https:\\\\/\\\\/api.twitter.com\\\\/1.1\\\\/geo\\\\/id\\\\/179b8df9e368044d.json\",\"place_type\":\"city\",\"name\":\"Lyon\",\"full_name\":\"Lyon, France\",\"country_code\":\"FR\",\"country\":\"France\",\"bounding_box\":{\"type\":\"Polygon\",\"coordinates\":[[[4.771831,45.707363],[4.771831,45.808280],[4.898367,45.808280],[4.898367,45.707363]]]},\"attributes\":{}},\"contributors\":null,\"is_quote_status\":false,\"retweet_count\":0,\"favorite_count\":0,\"entities\":{\"hashtags\":[],\"urls\":[],\"user_mentions\":[],\"symbols\":[]},\"favorited\":false,\"retweeted\":false,\"filter_level\":\"low\",\"lang\":\"fr\",\"timestamp_ms\":\"1493213446992\"}',\n",
       " '{\"created_at\":\"Wed Apr 26 13:30:47 +0000 2017\",\"id\":857225445015777280,\"id_str\":\"857225445015777280\",\"text\":\"@julia71903850 \\\\u041e\\\\u0442\\\\u043b\\\\u0438\\\\u0447\\\\u043d\\\\u0430\\\\u044f \\\\u0440\\\\u0435\\\\u043a\\\\u043b\\\\u0430\\\\u043c\\\\u0430!\",\"display_text_range\":[15,32],\"source\":\"\\\\u003ca href=\\\\\"http:\\\\/\\\\/twitter.com\\\\\" rel=\\\\\"nofollow\\\\\"\\\\u003eTwitter Web Client\\\\u003c\\\\/a\\\\u003e\",\"truncated\":false,\"in_reply_to_status_id\":857218175812988928,\"in_reply_to_status_id_str\":\"857218175812988928\",\"in_reply_to_user_id\":2370038058,\"in_reply_to_user_id_str\":\"2370038058\",\"in_reply_to_screen_name\":\"julia71903850\",\"user\":{\"id\":1254136784,\"id_str\":\"1254136784\",\"name\":\"\\\\u0414\\\\u043e\\\\u043d\\\\u044f \\\\u043b\\\\u044e\\\\u0431\\\\u0438\\\\u0442 \\\\u0428\\\\u0430\\\\u0440\\\\u0444\\\\u0443\",\"screen_name\":\"Donna_132\",\"location\":\"Dubna Moscow Region Russia\",\"url\":null,\"description\":\"I love the simple human pleasures. And love Gale Harold. And Tom Hiddleston :))\\\\r\\\\n\\\\u0415\\\\u043c, \\\\u0441\\\\u043f\\\\u043b\\\\u044e, \\\\u0440\\\\u0430\\\\u0431\\\\u043e\\\\u0442\\\\u0430\\\\u044e. \\\\u0412 \\\\u0441\\\\u0432\\\\u043e\\\\u0431\\\\u043e\\\\u0434\\\\u043d\\\\u043e\\\\u0435 \\\\u0432\\\\u0440\\\\u0435\\\\u043c\\\\u044f \\\\u043e\\\\u0445\\\\u0443\\\\u0435\\\\u0432\\\\u0430\\\\u044e \\\\u043e\\\\u0442 \\\\u043f\\\\u0440\\\\u043e\\\\u0438\\\\u0441\\\\u0445\\\\u043e\\\\u0434\\\\u044f\\\\u0449\\\\u0435\\\\u0433\\\\u043e\",\"protected\":false,\"verified\":false,\"followers_count\":102,\"friends_count\":57,\"listed_count\":18,\"favourites_count\":12778,\"statuses_count\":122994,\"created_at\":\"Sat Mar 09 11:27:53 +0000 2013\",\"utc_offset\":10800,\"time_zone\":\"Baghdad\",\"geo_enabled\":true,\"lang\":\"ru\",\"contributors_enabled\":false,\"is_translator\":false,\"profile_background_color\":\"654E2E\",\"profile_background_image_url\":\"http:\\\\/\\\\/pbs.twimg.com\\\\/profile_background_images\\\\/378800000099867845\\\\/cb0fb2833c6b8d5f039ccc8ae1f76303.png\",\"profile_background_image_url_https\":\"https:\\\\/\\\\/pbs.twimg.com\\\\/profile_background_images\\\\/378800000099867845\\\\/cb0fb2833c6b8d5f039ccc8ae1f76303.png\",\"profile_background_tile\":true,\"profile_link_color\":\"660099\",\"profile_sidebar_border_color\":\"A1B5D6\",\"profile_sidebar_fill_color\":\"D9CBC2\",\"profile_text_color\":\"D98C20\",\"profile_use_background_image\":true,\"profile_image_url\":\"http:\\\\/\\\\/pbs.twimg.com\\\\/profile_images\\\\/802912257197965313\\\\/fTGtvWMT_normal.jpg\",\"profile_image_url_https\":\"https:\\\\/\\\\/pbs.twimg.com\\\\/profile_images\\\\/802912257197965313\\\\/fTGtvWMT_normal.jpg\",\"profile_banner_url\":\"https:\\\\/\\\\/pbs.twimg.com\\\\/profile_banners\\\\/1254136784\\\\/1480270215\",\"default_profile\":false,\"default_profile_image\":false,\"following\":null,\"follow_request_sent\":null,\"notifications\":null},\"geo\":null,\"coordinates\":null,\"place\":{\"id\":\"e91c89171a178e9b\",\"url\":\"https:\\\\/\\\\/api.twitter.com\\\\/1.1\\\\/geo\\\\/id\\\\/e91c89171a178e9b.json\",\"place_type\":\"city\",\"name\":\"Huy\",\"full_name\":\"Huy, Belgique\",\"country_code\":\"BE\",\"country\":\"Belgi\\\\u00eb\",\"bounding_box\":{\"type\":\"Polygon\",\"coordinates\":[[[5.129335,50.467429],[5.129335,50.538892],[5.323490,50.538892],[5.323490,50.467429]]]},\"attributes\":{}},\"contributors\":null,\"is_quote_status\":false,\"retweet_count\":0,\"favorite_count\":0,\"entities\":{\"hashtags\":[],\"urls\":[],\"user_mentions\":[{\"screen_name\":\"julia71903850\",\"name\":\"julik\",\"id\":2370038058,\"id_str\":\"2370038058\",\"indices\":[0,14]}],\"symbols\":[]},\"favorited\":false,\"retweeted\":false,\"filter_level\":\"low\",\"lang\":\"ru\",\"timestamp_ms\":\"1493213447227\"}']"
      ]
     },
     "execution_count": 13,
     "metadata": {},
     "output_type": "execute_result"
    }
   ],
   "source": [
    "rdd.take(5)"
   ]
  },
  {
   "cell_type": "code",
   "execution_count": null,
   "metadata": {},
   "outputs": [],
   "source": [
    "spark.sparkContext"
   ]
  }
 ],
 "metadata": {
  "kernelspec": {
   "display_name": "Python 3",
   "language": "python",
   "name": "python3"
  },
  "language_info": {
   "codemirror_mode": {
    "name": "ipython",
    "version": 3
   },
   "file_extension": ".py",
   "mimetype": "text/x-python",
   "name": "python",
   "nbconvert_exporter": "python",
   "pygments_lexer": "ipython3",
   "version": "3.7.3"
  }
 },
 "nbformat": 4,
 "nbformat_minor": 4
}
